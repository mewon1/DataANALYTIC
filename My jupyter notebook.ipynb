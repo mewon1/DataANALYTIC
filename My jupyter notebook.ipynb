{
 "cells": [
  {
   "cell_type": "markdown",
   "id": "215145ce",
   "metadata": {},
   "source": [
    "# My jupyter Notebook on IBM studio"
   ]
  },
  {
   "cell_type": "markdown",
   "id": "946e7762",
   "metadata": {},
   "source": [
    "## My name is wilson Garuba \n",
    "   \n",
    "   I wish to be data scientist in the nearsest future"
   ]
  },
  {
   "cell_type": "markdown",
   "id": "9739ecf5",
   "metadata": {},
   "source": [
    " I am interest in Data science because my current reseach involved the use of Data analysis methodologies "
   ]
  },
  {
   "cell_type": "markdown",
   "id": "5a4d8720",
   "metadata": {},
   "source": [
    "### my code is to add to integer together "
   ]
  },
  {
   "cell_type": "code",
   "execution_count": 1,
   "id": "c18bb79b",
   "metadata": {},
   "outputs": [
    {
     "data": {
      "text/plain": [
       "11"
      ]
     },
     "execution_count": 1,
     "metadata": {},
     "output_type": "execute_result"
    }
   ],
   "source": [
    "a = 5\n",
    "b = 6\n",
    "c = a+b \n",
    "c"
   ]
  },
  {
   "cell_type": "markdown",
   "id": "2c097de7",
   "metadata": {},
   "source": [
    "horinzontal rules \n",
    "code/syntax highlighting \n",
    "🤦‍♂️🤦‍♂️"
   ]
  }
 ],
 "metadata": {
  "kernelspec": {
   "display_name": "Python 3 (ipykernel)",
   "language": "python",
   "name": "python3"
  },
  "language_info": {
   "codemirror_mode": {
    "name": "ipython",
    "version": 3
   },
   "file_extension": ".py",
   "mimetype": "text/x-python",
   "name": "python",
   "nbconvert_exporter": "python",
   "pygments_lexer": "ipython3",
   "version": "3.9.7"
  }
 },
 "nbformat": 4,
 "nbformat_minor": 5
}
